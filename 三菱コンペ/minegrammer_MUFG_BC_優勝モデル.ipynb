{
  "cells": [
    {
      "cell_type": "markdown",
      "metadata": {
        "id": "El3R_F-B8LDO"
      },
      "source": [
        "# Data"
      ]
    },
    {
      "cell_type": "code",
      "execution_count": null,
      "metadata": {
        "colab": {
          "base_uri": "https://localhost:8080/"
        },
        "id": "rq4dXcNyj1QC",
        "outputId": "595e43cb-0fcc-41b6-cd5d-6f0b709cee43"
      },
      "outputs": [
        {
          "name": "stdout",
          "output_type": "stream",
          "text": [
            "Drive already mounted at /content/drive; to attempt to forcibly remount, call drive.mount(\"/content/drive\", force_remount=True).\n"
          ]
        }
      ],
      "source": [
        "from google.colab import drive\n",
        "drive.mount('/content/drive')"
      ]
    },
    {
      "cell_type": "code",
      "execution_count": null,
      "metadata": {
        "id": "CeOe8D0L8Gw_"
      },
      "outputs": [],
      "source": [
        "import matplotlib.pyplot as plt\n",
        "import pandas as pd\n",
        "import numpy as np\n",
        "\n",
        "import seaborn as sns\n",
        "sns.set_style('darkgrid')\n",
        "sns.set(font='IPAexGothic')\n",
        "\n",
        "import warnings\n",
        "warnings.filterwarnings('ignore')\n",
        "\n",
        "path = '/content/drive/My Drive/Signate/MUFG/Data/'\n",
        "\n",
        "train = pd.read_csv(path + 'train.csv')\n",
        "test = pd.read_csv(path + 'test.csv')"
      ]
    },
    {
      "cell_type": "code",
      "execution_count": null,
      "metadata": {
        "id": "srLqWQpdl1tB"
      },
      "outputs": [],
      "source": [
        "pd.set_option('display.max_rows', 1000)\n",
        "pd.set_option('display.max_columns', 1000)"
      ]
    },
    {
      "cell_type": "markdown",
      "metadata": {
        "id": "SMX9T7jmYaU9"
      },
      "source": [
        "# Preprocessing"
      ]
    },
    {
      "cell_type": "markdown",
      "metadata": {
        "id": "j7rfXeZR5kKm"
      },
      "source": [
        "## Drop Data"
      ]
    },
    {
      "cell_type": "markdown",
      "metadata": {
        "id": "IlKpGLUlJ-VI"
      },
      "source": [
        "はじめの11個を落とす"
      ]
    },
    {
      "cell_type": "code",
      "execution_count": null,
      "metadata": {
        "id": "dzqSkTTw5kSf"
      },
      "outputs": [],
      "source": [
        "train = train[11:]"
      ]
    },
    {
      "cell_type": "markdown",
      "metadata": {
        "id": "KETp7iUc6Kdh"
      },
      "source": [
        "カレー以外で100個売れる（異常値）として削除"
      ]
    },
    {
      "cell_type": "code",
      "execution_count": null,
      "metadata": {
        "id": "a4ddNYqPAf45"
      },
      "outputs": [],
      "source": [
        "train.drop(train[(train['y'] >= 100) & (train['name'].apply(lambda x : True if ('カレー' not in x) else False))].index, axis=0, inplace=True)"
      ]
    },
    {
      "cell_type": "code",
      "execution_count": null,
      "metadata": {
        "id": "zrPTVFU2kdYe"
      },
      "outputs": [],
      "source": [
        "combined = train.append(test, ignore_index=True)"
      ]
    },
    {
      "cell_type": "markdown",
      "metadata": {
        "id": "rhtfpWAPP5tV"
      },
      "source": [
        "## Missing Value"
      ]
    },
    {
      "cell_type": "code",
      "execution_count": null,
      "metadata": {
        "id": "cGtTishWPZv9"
      },
      "outputs": [],
      "source": [
        "# 欠損値補完\n",
        "combined['remarks'] = combined['remarks'].fillna('なし')\n",
        "combined['event'] = combined['event'].fillna('なし')\n",
        "combined['payday'] = combined['payday'].fillna(0)"
      ]
    },
    {
      "cell_type": "markdown",
      "metadata": {
        "id": "ALRc2qXi5aAY"
      },
      "source": [
        "# Name Featuer Engineering"
      ]
    },
    {
      "cell_type": "markdown",
      "metadata": {
        "id": "zU70Hakbr3yE"
      },
      "source": [
        "## 条件別"
      ]
    },
    {
      "cell_type": "code",
      "execution_count": null,
      "metadata": {
        "id": "xZjAXck8i3gK"
      },
      "outputs": [],
      "source": [
        "#  kcalが欠損かどうか\n",
        "combined['kcal_nan'] = combined['kcal'].isnull()\n",
        "\n",
        "# kcalのないカレー（人気）\n",
        "combined['popular_curry'] = (combined['kcal'].isnull()) & (combined['name'].apply(lambda x : True if x.find('カレー') >=0 else False))\n",
        "\n",
        "# kcalがあるカレー（不人気不人気）\n",
        "# combined['unpopular_curry'] = (combined['kcal'].notnull()) & (combined['name'].apply(lambda x : True if x.find('カレー') >=0 else False))\n",
        "\n",
        "# kcalがあるキーマ（キーマカレー）\n",
        "combined['キーマ'] = (combined['kcal'].notnull()) & (combined['name'].apply(lambda x : True if x.find('キーマカレー') >=0 else False))"
      ]
    },
    {
      "cell_type": "markdown",
      "metadata": {
        "id": "ktWe3_5goaP_"
      },
      "source": [
        "## 料理名別"
      ]
    },
    {
      "cell_type": "code",
      "execution_count": null,
      "metadata": {
        "id": "pYKztwwloaW5"
      },
      "outputs": [],
      "source": [
        "combined['チキン'] = combined['name'].apply(lambda x : True if ('チキン' in x and 'カレー' not in x) else False)\n",
        "\n",
        "combined['唐揚げ'] = combined['name'].apply(lambda x : True if ('唐揚' in x) else False)\n",
        "\n",
        "combined['ハンバーグ'] =  combined['name'].apply(lambda x : True if ('ハンバーグ' in x) else False)\n",
        "\n",
        "combined['メンチカツ'] =  combined['name'].apply(lambda x : True if ('メンチカツ' in x) else False)\n",
        "\n",
        "combined['エビフライ'] =  combined['name'].apply(lambda x : True if ('エビフライ' in x or 'えびフライ' in x) else False)\n",
        "\n",
        "combined['麻婆'] =  combined['name'].apply(lambda x : True if ('麻婆' in x or 'マーボ' in x) else False)\n",
        "\n",
        "combined['牛丼風'] =  combined['name'].apply(lambda x : True if ('牛丼風' in x) else False)\n",
        "\n",
        "combined['シチュー'] =  combined['name'].apply(lambda x : True if ('シチュー' in x) else False)\n",
        "\n",
        "combined['酢豚'] =  combined['name'].apply(lambda x : True if ('酢豚' in x) else False)\n",
        "\n",
        "combined['チンジャオロース'] =  combined['name'].apply(lambda x : True if ('チンジャオロース' in x or '青椒肉絲' in x) else False)\n",
        "\n",
        "combined['親子'] =  combined['name'].apply(lambda x : True if ('親子' in x) else False)\n",
        "\n",
        "combined['生姜'] =  combined['name'].apply(lambda x : True if ('生姜' in x) else False)\n",
        "\n",
        "# testになし\n",
        "combined['キムチ'] =  combined['name'].apply(lambda x : True if ('キムチ' in x) else False)\n",
        "\n",
        "combined['ぶり照り'] =  combined['name'].apply(lambda x : True if ('ぶり' in x and '照り' in x) else False)\n",
        "\n",
        "combined['トンカツ'] =  combined['name'].apply(lambda x : True if ('トンカツ' in x or 'とんかつ' in x) else False)\n",
        "\n",
        "combined['白身魚'] =  combined['name'].apply(lambda x : True if ('白身魚' in x) else False)\n",
        "\n",
        "combined['油淋鶏'] =  combined['name'].apply(lambda x : True if ('油淋鶏' in x) else False)\n",
        "\n",
        "combined['炊き込みご飯'] =  combined['name'].apply(lambda x : True if ('炊き込みご飯' in x) else False)\n",
        "\n",
        "combined['マスタード'] =  combined['name'].apply(lambda x : True if ('マスタード' in x) else False)\n",
        "\n",
        "combined['肉じゃが'] =  combined['name'].apply(lambda x : True if ('肉じゃが' in x) else False)\n",
        "\n",
        "combined['スタミナ'] =  combined['name'].apply(lambda x : True if ('スタミナ' in x) else False)\n",
        "\n",
        "combined['柳川'] =  combined['name'].apply(lambda x : True if ('柳川' in x) else False)\n",
        "\n",
        "combined['コロッケ'] =  combined['name'].apply(lambda x : True if ('コロッケ' in x) else False)\n",
        "\n",
        "combined['エビカツ'] =  combined['name'].apply(lambda x : True if ('エビカツ' in x) else False)\n",
        "\n",
        "combined['天ぷら'] =  combined['name'].apply(lambda x : True if ('天ぷら' in x) else False)\n",
        "\n",
        "# testになし\n",
        "combined['ビーフストロガノフ'] =  combined['name'].apply(lambda x : True if ('ビーフストロガノフ' in x) else False) # testになし\n",
        "\n",
        "combined['肉野菜オイスター'] =  combined['name'].apply(lambda x : True if ('肉野菜オイスター' in x) else False)\n",
        "\n",
        "combined['鶏照り'] =  combined['name'].apply(lambda x : True if ('鶏' in x and '照り' in x) else False)\n",
        "\n",
        "combined['レモンペッパー焼き'] =  combined['name'].apply(lambda x : True if ('レモンペッパー焼き' in x) else False)"
      ]
    },
    {
      "cell_type": "markdown",
      "metadata": {
        "id": "l2bBkYqX3bP5"
      },
      "source": [
        "## カテゴリ別"
      ]
    },
    {
      "cell_type": "code",
      "execution_count": null,
      "metadata": {
        "id": "yz2DuRdu3auR"
      },
      "outputs": [],
      "source": [
        "combined['鶏'] =  combined['name'].apply(lambda x : True if ('鶏' in x or 'チキン' in x) else False)\n",
        "combined['牛'] =  combined['name'].apply(lambda x : True if ('牛' in x or 'ビーフ' in x) else False)\n",
        "combined['豚'] =  combined['name'].apply(lambda x : True if ('豚' in x or 'ポーク' in x or 'ロース' in x ) else False)\n",
        "combined['魚'] =  combined['name'].apply(lambda x : True if ('魚' in x or '鮭' in x or 'サーモン' in x or 'ぶり' in x or 'アジ' in x or 'ホキ' in x or '海鮮' in x \n",
        "                                                    or 'サバ' in x or '鯖' in x or 'エビ' in x or 'えび' in x or '海老' in x or 'イカ' in x or 'いか' in x or 'かじき' in x) else False)\n",
        "combined['野菜'] =  combined['name'].apply(lambda x : True if ('菜' in x or '大根' in x or 'キムチ' in x or 'ゴーヤ' in x) else False)"
      ]
    },
    {
      "cell_type": "markdown",
      "metadata": {
        "id": "1-jr7ooD5zcw"
      },
      "source": [
        "## 調理法別"
      ]
    },
    {
      "cell_type": "code",
      "execution_count": null,
      "metadata": {
        "id": "Gcz4H8V15ziv"
      },
      "outputs": [],
      "source": [
        "combined['焼き'] =  combined['name'].apply(lambda x : True if ('焼' in x or '焼き' in x or 'やき' in x or 'ヤキ' in x) else False)\n",
        "combined['煮'] =  combined['name'].apply(lambda x : True if ('煮' in x) else False)\n",
        "combined['フライ'] =  combined['name'].apply(lambda x : True if ('フライ' in x) else False)\n",
        "combined['炒め'] =  combined['name'].apply(lambda x : True if ('炒め' in x) else False)\n",
        "combined['ソテー'] =  combined['name'].apply(lambda x : True if ('ソテー' in x) else False)\n",
        "combined['漬け'] =  combined['name'].apply(lambda x : True if ('漬け' in x) else False)\n",
        "# 白身魚とサーモン（いらないかも）\n",
        "combined['ムニエル'] =  combined['name'].apply(lambda x : True if ('ムニエル' in x) else False)"
      ]
    },
    {
      "cell_type": "markdown",
      "metadata": {
        "id": "hPWwSE8MtoGp"
      },
      "source": [
        "## スタイル別"
      ]
    },
    {
      "cell_type": "markdown",
      "metadata": {
        "id": "PII2AoWuxT5-"
      },
      "source": [
        "ユニークな値をここで拾う"
      ]
    },
    {
      "cell_type": "code",
      "execution_count": null,
      "metadata": {
        "id": "aVj_VFEktoQs"
      },
      "outputs": [],
      "source": [
        "# 和風\n",
        "# 和、おでん、おろし、みりん、五目、西京\n",
        "# combined['和風'] =  combined['name'].apply(lambda x : True if ('和' in x or 'おでん' in x or 'おろし' in x or 'みりん' in x or '味醂' in x or '五目' in x or '西京' in x or '筑前' in x) else False)\n",
        "\n",
        "# 洋風\n",
        "# 洋、ビーフストロガノフ、BBQ、マヨ、ガーリック、オリーブ、デミ(testになし)、ビュッフェ(testになし)、ミックスグリル(testになし)、\n",
        "# combined['洋風'] =  combined['name'].apply(lambda x : True if ('洋' in x or 'ビーフストロガノフ' in x or 'BBQ' in x or 'マヨ' in x or 'ガーリック' in x \n",
        "                                                             or 'オリーブ' in x or 'デミ' in x or 'ビュッフェ' in x) else False)\n",
        "\n",
        "# 中華、韓国、その他\n",
        "# 中華、プルコギ、酢豚、チリソース、サーザイ、ガパオ、韓国\n",
        "# combined['中華'] =  combined['name'].apply(lambda x : True if ('中華' in x or 'プルコギ' in x or '酢豚' in x or 'チリソース' in x or 'サーザイ' in x or 'ガパオ' in x or '韓国' in x ) else False)"
      ]
    },
    {
      "cell_type": "markdown",
      "metadata": {
        "id": "GpPoIksp4d8h"
      },
      "source": [
        "## テストデータ用"
      ]
    },
    {
      "cell_type": "code",
      "execution_count": null,
      "metadata": {
        "id": "Nm8XZX1c4eDC"
      },
      "outputs": [],
      "source": [
        "combined['サバ'] =  combined['name'].apply(lambda x : True if ('サバ' in x or '鯖' in x) else False)\n",
        "combined['エビ'] =  combined['name'].apply(lambda x : True if ('エビ' in x or 'えび' in x or '海老' in x) else False)\n",
        "combined['イカ'] =  combined['name'].apply(lambda x : True if ('イカ' in x or 'いか' in x) else False)\n",
        "combined['豆'] =  combined['name'].apply(lambda x : True if ('豆' in x) else False)\n",
        "combined['ビビンバ'] =  combined['name'].apply(lambda x : True if ('ビビンバ' in x) else False)\n",
        "combined['グリル'] =  combined['name'].apply(lambda x : True if ('グリル' in x) else False)\n",
        "combined['すき焼き'] =  combined['name'].apply(lambda x : True if ('すき焼き' in x) else False)\n",
        "combined['回鍋肉'] =  combined['name'].apply(lambda x : True if ('回鍋肉' in x) else False)\n",
        "combined['挽肉'] =  combined['name'].apply(lambda x : True if ('挽肉' in x) else False)\n",
        "combined['胡椒'] =  combined['name'].apply(lambda x : True if ('胡椒' in x) else False)\n",
        "combined['トマト'] =  combined['name'].apply(lambda x : True if ('トマト' in x) else False)\n",
        "combined['味噌'] =  combined['name'].apply(lambda x : True if ('味噌' in x or 'みそ' in x) else False)\n",
        "combined['胡麻'] =  combined['name'].apply(lambda x : True if ('胡麻' in x) else False)\n",
        "combined['タルタル'] =  combined['name'].apply(lambda x : True if ('タルタル' in x) else False)\n",
        "combined['おろし'] =  combined['name'].apply(lambda x : True if ('おろし' in x) else False)\n",
        "# trainになし\n",
        "# combined['みりん'] =  combined['name'].apply(lambda x : True if ('みりん' in x or '味醂' in x) else False)\n"
      ]
    },
    {
      "cell_type": "code",
      "execution_count": null,
      "metadata": {
        "colab": {
          "base_uri": "https://localhost:8080/"
        },
        "id": "E3B4k4mql42G",
        "outputId": "f1f15743-7c46-400b-e6b3-cc65ac7b3c5f"
      },
      "outputs": [
        {
          "data": {
            "text/plain": [
              "array(['dateid', 'y', 'week', 'soldout', 'name', 'kcal', 'remarks',\n",
              "       'event', 'payday', 'weather', 'precipitation', 'temperature',\n",
              "       'kcal_nan', 'popular_curry', 'unpopular_curry', 'チキン', '唐揚げ',\n",
              "       'ハンバーグ', 'メンチカツ', 'エビフライ', '麻婆', '牛丼風', 'シチュー', '酢豚', 'チンジャオロース',\n",
              "       '親子', '生姜', 'キムチ', 'ぶり照り', 'トンカツ', '白身魚', '油淋鶏', '炊き込みご飯', 'マスタード',\n",
              "       '肉じゃが', 'スタミナ', '柳川', 'コロッケ', 'エビカツ', '天ぷら', 'ビーフストロガノフ',\n",
              "       '肉野菜オイスター', '鶏照り', 'レモンペッパー焼き', '鶏', '牛', '豚', '魚', '野菜', '焼き',\n",
              "       '煮', 'フライ', '炒め', 'ソテー', '漬け', 'ムニエル', '和風', '洋風', '中華', 'サバ',\n",
              "       'エビ', 'イカ', '豆', 'ビビンバ', 'グリル', 'すき焼き', '回鍋肉', '挽肉', '胡椒', 'トマト',\n",
              "       '味噌', '胡麻', 'タルタル', 'おろし'], dtype=object)"
            ]
          },
          "execution_count": 14,
          "metadata": {},
          "output_type": "execute_result"
        }
      ],
      "source": [
        "combined.columns.values"
      ]
    },
    {
      "cell_type": "markdown",
      "metadata": {
        "id": "K2bvjrry8wRr"
      },
      "source": [
        "# Featuer Engineering"
      ]
    },
    {
      "cell_type": "markdown",
      "metadata": {
        "id": "1ENeW-1ZoxCv"
      },
      "source": [
        "## month"
      ]
    },
    {
      "cell_type": "code",
      "execution_count": null,
      "metadata": {
        "id": "pq3MF2Vqo5iQ"
      },
      "outputs": [],
      "source": [
        "# combined['dateid'] = pd.to_datetime(combined['dateid'])\n",
        "# combined['month'] = combined['dateid'].dt.month"
      ]
    },
    {
      "cell_type": "markdown",
      "metadata": {
        "id": "Ohq1o3KcQLsG"
      },
      "source": [
        "## Delete ununique values"
      ]
    },
    {
      "cell_type": "code",
      "execution_count": null,
      "metadata": {
        "id": "VAuoYtD589kU"
      },
      "outputs": [],
      "source": [
        "delimit_num =  train.shape[0]\n",
        "train = combined.loc[:delimit_num-1, :]\n",
        "test = combined.loc[delimit_num:, :].drop(['y'], axis=1)\n",
        "test_confirmation = test"
      ]
    },
    {
      "cell_type": "code",
      "execution_count": null,
      "metadata": {
        "id": "u6YzFU6MQL0-"
      },
      "outputs": [],
      "source": [
        "delete_unique_col = [\n",
        "    'name',\n",
        "    'remarks',\n",
        "    'event',\n",
        "    'weather'\n",
        "]"
      ]
    },
    {
      "cell_type": "code",
      "execution_count": null,
      "metadata": {
        "id": "OHVsayvPQL31"
      },
      "outputs": [],
      "source": [
        "def delete_unique_values(train, test, delete_unique_col):\n",
        "    for col in delete_unique_col:\n",
        "        train_name_unique = set(train[col].unique())\n",
        "        test_name_unique = set(test[col].unique())\n",
        "\n",
        "        name_wa =  train_name_unique |  test_name_unique\n",
        "        name_seki = train_name_unique & test_name_unique\n",
        "        delete_name = name_wa - name_seki\n",
        "\n",
        "        train = train.replace(delete_name,  'あり')\n",
        "        test = test.replace(delete_name,  'あり')\n",
        "\n",
        "        # train = train.replace(delete_name, np.nan)\n",
        "        # test = test.replace(delete_name,  np.nan)\n",
        "\n",
        "\n",
        "    return train, test"
      ]
    },
    {
      "cell_type": "code",
      "execution_count": null,
      "metadata": {
        "id": "6eGk1Vw9c-To"
      },
      "outputs": [],
      "source": [
        "train, test = delete_unique_values(train, test, delete_unique_col)"
      ]
    },
    {
      "cell_type": "markdown",
      "metadata": {
        "id": "x6Jt_IfEPWJJ"
      },
      "source": [
        "## kcal"
      ]
    },
    {
      "cell_type": "markdown",
      "metadata": {
        "id": "y6l924ASoT9M"
      },
      "source": [
        "特定の値で補間"
      ]
    },
    {
      "cell_type": "code",
      "execution_count": null,
      "metadata": {
        "id": "0fcExzmFPWRX"
      },
      "outputs": [],
      "source": [
        "# train.loc[train['kcal'] < 400, 'kcal'] = 400\n",
        "# test.loc[test['kcal'] > 500, 'kcal'] = 500 "
      ]
    },
    {
      "cell_type": "markdown",
      "metadata": {
        "id": "xEHxYRB3-dma"
      },
      "source": [
        "# 最終確認"
      ]
    },
    {
      "cell_type": "code",
      "execution_count": null,
      "metadata": {
        "id": "l0vukX_R93rk"
      },
      "outputs": [],
      "source": [
        "combined = train.append(test, ignore_index=True)"
      ]
    },
    {
      "cell_type": "code",
      "execution_count": null,
      "metadata": {
        "id": "bKMEsErq-nni"
      },
      "outputs": [],
      "source": [
        "combined.drop(['dateid'], axis=1, inplace=True)"
      ]
    },
    {
      "cell_type": "code",
      "execution_count": null,
      "metadata": {
        "id": "rfURhffyU39V"
      },
      "outputs": [],
      "source": [
        "combined.replace(True, 1.0, inplace=True)\n",
        "combined.replace(False, 0.0, inplace=True)"
      ]
    },
    {
      "cell_type": "code",
      "execution_count": null,
      "metadata": {
        "colab": {
          "base_uri": "https://localhost:8080/"
        },
        "id": "oR-vm2Vr-E-i",
        "outputId": "afdc5f30-4c9b-481d-8c28-f2863ded36bd"
      },
      "outputs": [
        {
          "data": {
            "text/plain": [
              "array(['y', 'week', 'soldout', 'name', 'kcal', 'remarks', 'event',\n",
              "       'payday', 'weather', 'precipitation', 'temperature', 'kcal_nan',\n",
              "       'popular_curry', 'unpopular_curry', 'チキン', '唐揚げ', 'ハンバーグ', 'メンチカツ',\n",
              "       'エビフライ', '麻婆', '牛丼風', 'シチュー', '酢豚', 'チンジャオロース', '親子', '生姜', 'キムチ',\n",
              "       'ぶり照り', 'トンカツ', '白身魚', '油淋鶏', '炊き込みご飯', 'マスタード', '肉じゃが', 'スタミナ',\n",
              "       '柳川', 'コロッケ', 'エビカツ', '天ぷら', 'ビーフストロガノフ', '肉野菜オイスター', '鶏照り',\n",
              "       'レモンペッパー焼き', '鶏', '牛', '豚', '魚', '野菜', '焼き', '煮', 'フライ', '炒め',\n",
              "       'ソテー', '漬け', 'ムニエル', '和風', '洋風', '中華', 'サバ', 'エビ', 'イカ', '豆',\n",
              "       'ビビンバ', 'グリル', 'すき焼き', '回鍋肉', '挽肉', '胡椒', 'トマト', '味噌', '胡麻',\n",
              "       'タルタル', 'おろし'], dtype=object)"
            ]
          },
          "execution_count": 24,
          "metadata": {},
          "output_type": "execute_result"
        }
      ],
      "source": [
        "combined.columns.values"
      ]
    },
    {
      "cell_type": "markdown",
      "metadata": {
        "id": "FYEeJSn24Pil"
      },
      "source": [
        "# PyCaret"
      ]
    },
    {
      "cell_type": "code",
      "execution_count": null,
      "metadata": {
        "colab": {
          "base_uri": "https://localhost:8080/"
        },
        "id": "8vr1io-OQnbt",
        "outputId": "1d6375fa-81bc-4b3c-d478-830d78061dff"
      },
      "outputs": [
        {
          "name": "stdout",
          "output_type": "stream",
          "text": [
            "Looking in indexes: https://pypi.org/simple, https://us-python.pkg.dev/colab-wheels/public/simple/\n",
            "Requirement already satisfied: pycaret in /usr/local/lib/python3.7/dist-packages (2.3.10)\n",
            "Requirement already satisfied: lightgbm>=2.3.1 in /usr/local/lib/python3.7/dist-packages (from pycaret) (3.3.3)\n",
            "Requirement already satisfied: scipy<=1.5.4 in /usr/local/lib/python3.7/dist-packages (from pycaret) (1.5.4)\n",
            "Requirement already satisfied: gensim<4.0.0 in /usr/local/lib/python3.7/dist-packages (from pycaret) (3.6.0)\n",
            "Requirement already satisfied: Boruta in /usr/local/lib/python3.7/dist-packages (from pycaret) (0.3)\n",
            "Requirement already satisfied: matplotlib in /usr/local/lib/python3.7/dist-packages (from pycaret) (3.2.2)\n",
            "Requirement already satisfied: pyod in /usr/local/lib/python3.7/dist-packages (from pycaret) (1.0.5)\n",
            "Requirement already satisfied: seaborn in /usr/local/lib/python3.7/dist-packages (from pycaret) (0.11.2)\n",
            "Requirement already satisfied: pandas in /usr/local/lib/python3.7/dist-packages (from pycaret) (1.3.5)\n",
            "Requirement already satisfied: yellowbrick>=1.0.1 in /usr/local/lib/python3.7/dist-packages (from pycaret) (1.3.post1)\n",
            "Requirement already satisfied: nltk in /usr/local/lib/python3.7/dist-packages (from pycaret) (3.7)\n",
            "Requirement already satisfied: textblob in /usr/local/lib/python3.7/dist-packages (from pycaret) (0.15.3)\n",
            "Requirement already satisfied: numba<0.55 in /usr/local/lib/python3.7/dist-packages (from pycaret) (0.54.1)\n",
            "Requirement already satisfied: IPython in /usr/local/lib/python3.7/dist-packages (from pycaret) (7.9.0)\n",
            "Requirement already satisfied: pandas-profiling>=2.8.0 in /usr/local/lib/python3.7/dist-packages (from pycaret) (3.3.0)\n",
            "Requirement already satisfied: umap-learn in /usr/local/lib/python3.7/dist-packages (from pycaret) (0.5.3)\n",
            "Requirement already satisfied: imbalanced-learn==0.7.0 in /usr/local/lib/python3.7/dist-packages (from pycaret) (0.7.0)\n",
            "Requirement already satisfied: mlflow in /usr/local/lib/python3.7/dist-packages (from pycaret) (1.29.0)\n",
            "Requirement already satisfied: ipywidgets in /usr/local/lib/python3.7/dist-packages (from pycaret) (7.7.1)\n",
            "Requirement already satisfied: kmodes>=0.10.1 in /usr/local/lib/python3.7/dist-packages (from pycaret) (0.12.2)\n",
            "Requirement already satisfied: wordcloud in /usr/local/lib/python3.7/dist-packages (from pycaret) (1.8.2.2)\n",
            "Requirement already satisfied: scikit-plot in /usr/local/lib/python3.7/dist-packages (from pycaret) (0.3.7)\n",
            "Requirement already satisfied: plotly>=4.4.1 in /usr/local/lib/python3.7/dist-packages (from pycaret) (5.5.0)\n",
            "Requirement already satisfied: pyyaml<6.0.0 in /usr/local/lib/python3.7/dist-packages (from pycaret) (5.4.1)\n",
            "Requirement already satisfied: mlxtend>=0.17.0 in /usr/local/lib/python3.7/dist-packages (from pycaret) (0.19.0)\n",
            "Requirement already satisfied: scikit-learn==0.23.2 in /usr/local/lib/python3.7/dist-packages (from pycaret) (0.23.2)\n",
            "Requirement already satisfied: cufflinks>=0.17.0 in /usr/local/lib/python3.7/dist-packages (from pycaret) (0.17.3)\n",
            "Requirement already satisfied: pyLDAvis in /usr/local/lib/python3.7/dist-packages (from pycaret) (3.2.2)\n",
            "Requirement already satisfied: joblib in /usr/local/lib/python3.7/dist-packages (from pycaret) (1.1.1)\n",
            "Requirement already satisfied: spacy<2.4.0 in /usr/local/lib/python3.7/dist-packages (from pycaret) (2.3.7)\n",
            "Requirement already satisfied: numpy>=1.13.3 in /usr/local/lib/python3.7/dist-packages (from imbalanced-learn==0.7.0->pycaret) (1.19.5)\n",
            "Requirement already satisfied: threadpoolctl>=2.0.0 in /usr/local/lib/python3.7/dist-packages (from scikit-learn==0.23.2->pycaret) (3.1.0)\n",
            "Requirement already satisfied: setuptools>=34.4.1 in /usr/local/lib/python3.7/dist-packages (from cufflinks>=0.17.0->pycaret) (57.4.0)\n",
            "Requirement already satisfied: colorlover>=0.2.1 in /usr/local/lib/python3.7/dist-packages (from cufflinks>=0.17.0->pycaret) (0.3.0)\n",
            "Requirement already satisfied: six>=1.9.0 in /usr/local/lib/python3.7/dist-packages (from cufflinks>=0.17.0->pycaret) (1.15.0)\n",
            "Requirement already satisfied: smart-open>=1.2.1 in /usr/local/lib/python3.7/dist-packages (from gensim<4.0.0->pycaret) (5.2.1)\n",
            "Requirement already satisfied: prompt-toolkit<2.1.0,>=2.0.0 in /usr/local/lib/python3.7/dist-packages (from IPython->pycaret) (2.0.10)\n",
            "Requirement already satisfied: pexpect in /usr/local/lib/python3.7/dist-packages (from IPython->pycaret) (4.8.0)\n",
            "Requirement already satisfied: decorator in /usr/local/lib/python3.7/dist-packages (from IPython->pycaret) (4.4.2)\n",
            "Requirement already satisfied: pickleshare in /usr/local/lib/python3.7/dist-packages (from IPython->pycaret) (0.7.5)\n",
            "Requirement already satisfied: pygments in /usr/local/lib/python3.7/dist-packages (from IPython->pycaret) (2.6.1)\n",
            "Requirement already satisfied: traitlets>=4.2 in /usr/local/lib/python3.7/dist-packages (from IPython->pycaret) (5.1.1)\n",
            "Requirement already satisfied: backcall in /usr/local/lib/python3.7/dist-packages (from IPython->pycaret) (0.2.0)\n",
            "Requirement already satisfied: jedi>=0.10 in /usr/local/lib/python3.7/dist-packages (from IPython->pycaret) (0.18.1)\n",
            "Requirement already satisfied: ipykernel>=4.5.1 in /usr/local/lib/python3.7/dist-packages (from ipywidgets->pycaret) (5.3.4)\n",
            "Requirement already satisfied: jupyterlab-widgets>=1.0.0 in /usr/local/lib/python3.7/dist-packages (from ipywidgets->pycaret) (3.0.3)\n",
            "Requirement already satisfied: widgetsnbextension~=3.6.0 in /usr/local/lib/python3.7/dist-packages (from ipywidgets->pycaret) (3.6.1)\n",
            "Requirement already satisfied: ipython-genutils~=0.2.0 in /usr/local/lib/python3.7/dist-packages (from ipywidgets->pycaret) (0.2.0)\n",
            "Requirement already satisfied: tornado>=4.2 in /usr/local/lib/python3.7/dist-packages (from ipykernel>=4.5.1->ipywidgets->pycaret) (5.1.1)\n",
            "Requirement already satisfied: jupyter-client in /usr/local/lib/python3.7/dist-packages (from ipykernel>=4.5.1->ipywidgets->pycaret) (6.1.12)\n",
            "Requirement already satisfied: parso<0.9.0,>=0.8.0 in /usr/local/lib/python3.7/dist-packages (from jedi>=0.10->IPython->pycaret) (0.8.3)\n",
            "Requirement already satisfied: wheel in /usr/local/lib/python3.7/dist-packages (from lightgbm>=2.3.1->pycaret) (0.37.1)\n",
            "Requirement already satisfied: cycler>=0.10 in /usr/local/lib/python3.7/dist-packages (from matplotlib->pycaret) (0.11.0)\n",
            "Requirement already satisfied: pyparsing!=2.0.4,!=2.1.2,!=2.1.6,>=2.0.1 in /usr/local/lib/python3.7/dist-packages (from matplotlib->pycaret) (3.0.9)\n",
            "Requirement already satisfied: kiwisolver>=1.0.1 in /usr/local/lib/python3.7/dist-packages (from matplotlib->pycaret) (1.4.4)\n",
            "Requirement already satisfied: python-dateutil>=2.1 in /usr/local/lib/python3.7/dist-packages (from matplotlib->pycaret) (2.8.2)\n",
            "Requirement already satisfied: typing-extensions in /usr/local/lib/python3.7/dist-packages (from kiwisolver>=1.0.1->matplotlib->pycaret) (4.1.1)\n",
            "Requirement already satisfied: llvmlite<0.38,>=0.37.0rc1 in /usr/local/lib/python3.7/dist-packages (from numba<0.55->pycaret) (0.37.0)\n",
            "Requirement already satisfied: pytz>=2017.3 in /usr/local/lib/python3.7/dist-packages (from pandas->pycaret) (2022.4)\n",
            "Requirement already satisfied: phik<0.13,>=0.11.1 in /usr/local/lib/python3.7/dist-packages (from pandas-profiling>=2.8.0->pycaret) (0.12.2)\n",
            "Requirement already satisfied: jinja2<3.2,>=2.11.1 in /usr/local/lib/python3.7/dist-packages (from pandas-profiling>=2.8.0->pycaret) (2.11.3)\n",
            "Requirement already satisfied: tangled-up-in-unicode==0.2.0 in /usr/local/lib/python3.7/dist-packages (from pandas-profiling>=2.8.0->pycaret) (0.2.0)\n",
            "Requirement already satisfied: requests<2.29,>=2.24.0 in /usr/local/lib/python3.7/dist-packages (from pandas-profiling>=2.8.0->pycaret) (2.28.1)\n",
            "Requirement already satisfied: tqdm<4.65,>=4.48.2 in /usr/local/lib/python3.7/dist-packages (from pandas-profiling>=2.8.0->pycaret) (4.64.1)\n",
            "Requirement already satisfied: visions[type_image_path]==0.7.5 in /usr/local/lib/python3.7/dist-packages (from pandas-profiling>=2.8.0->pycaret) (0.7.5)\n",
            "Requirement already satisfied: multimethod<1.9,>=1.4 in /usr/local/lib/python3.7/dist-packages (from pandas-profiling>=2.8.0->pycaret) (1.8)\n",
            "Requirement already satisfied: missingno<0.6,>=0.4.2 in /usr/local/lib/python3.7/dist-packages (from pandas-profiling>=2.8.0->pycaret) (0.5.1)\n",
            "Requirement already satisfied: statsmodels<0.14,>=0.13.2 in /usr/local/lib/python3.7/dist-packages (from pandas-profiling>=2.8.0->pycaret) (0.13.2)\n",
            "Requirement already satisfied: htmlmin==0.1.12 in /usr/local/lib/python3.7/dist-packages (from pandas-profiling>=2.8.0->pycaret) (0.1.12)\n",
            "Requirement already satisfied: pydantic<1.10,>=1.8.1 in /usr/local/lib/python3.7/dist-packages (from pandas-profiling>=2.8.0->pycaret) (1.9.2)\n",
            "Requirement already satisfied: attrs>=19.3.0 in /usr/local/lib/python3.7/dist-packages (from visions[type_image_path]==0.7.5->pandas-profiling>=2.8.0->pycaret) (22.1.0)\n",
            "Requirement already satisfied: networkx>=2.4 in /usr/local/lib/python3.7/dist-packages (from visions[type_image_path]==0.7.5->pandas-profiling>=2.8.0->pycaret) (2.6.3)\n",
            "Requirement already satisfied: imagehash in /usr/local/lib/python3.7/dist-packages (from visions[type_image_path]==0.7.5->pandas-profiling>=2.8.0->pycaret) (4.3.1)\n",
            "Requirement already satisfied: Pillow in /usr/local/lib/python3.7/dist-packages (from visions[type_image_path]==0.7.5->pandas-profiling>=2.8.0->pycaret) (7.1.2)\n",
            "Requirement already satisfied: MarkupSafe>=0.23 in /usr/local/lib/python3.7/dist-packages (from jinja2<3.2,>=2.11.1->pandas-profiling>=2.8.0->pycaret) (2.0.1)\n",
            "Requirement already satisfied: tenacity>=6.2.0 in /usr/local/lib/python3.7/dist-packages (from plotly>=4.4.1->pycaret) (8.1.0)\n",
            "Requirement already satisfied: wcwidth in /usr/local/lib/python3.7/dist-packages (from prompt-toolkit<2.1.0,>=2.0.0->IPython->pycaret) (0.2.5)\n",
            "Requirement already satisfied: certifi>=2017.4.17 in /usr/local/lib/python3.7/dist-packages (from requests<2.29,>=2.24.0->pandas-profiling>=2.8.0->pycaret) (2022.9.24)\n",
            "Requirement already satisfied: charset-normalizer<3,>=2 in /usr/local/lib/python3.7/dist-packages (from requests<2.29,>=2.24.0->pandas-profiling>=2.8.0->pycaret) (2.1.1)\n",
            "Requirement already satisfied: idna<4,>=2.5 in /usr/local/lib/python3.7/dist-packages (from requests<2.29,>=2.24.0->pandas-profiling>=2.8.0->pycaret) (2.10)\n",
            "Requirement already satisfied: urllib3<1.27,>=1.21.1 in /usr/local/lib/python3.7/dist-packages (from requests<2.29,>=2.24.0->pandas-profiling>=2.8.0->pycaret) (1.26.12)\n",
            "Requirement already satisfied: cymem<2.1.0,>=2.0.2 in /usr/local/lib/python3.7/dist-packages (from spacy<2.4.0->pycaret) (2.0.6)\n",
            "Requirement already satisfied: srsly<1.1.0,>=1.0.2 in /usr/local/lib/python3.7/dist-packages (from spacy<2.4.0->pycaret) (1.0.5)\n",
            "Requirement already satisfied: wasabi<1.1.0,>=0.4.0 in /usr/local/lib/python3.7/dist-packages (from spacy<2.4.0->pycaret) (0.10.1)\n",
            "Requirement already satisfied: catalogue<1.1.0,>=0.0.7 in /usr/local/lib/python3.7/dist-packages (from spacy<2.4.0->pycaret) (1.0.1)\n",
            "Requirement already satisfied: preshed<3.1.0,>=3.0.2 in /usr/local/lib/python3.7/dist-packages (from spacy<2.4.0->pycaret) (3.0.7)\n",
            "Requirement already satisfied: murmurhash<1.1.0,>=0.28.0 in /usr/local/lib/python3.7/dist-packages (from spacy<2.4.0->pycaret) (1.0.8)\n",
            "Requirement already satisfied: blis<0.8.0,>=0.4.0 in /usr/local/lib/python3.7/dist-packages (from spacy<2.4.0->pycaret) (0.7.8)\n",
            "Requirement already satisfied: plac<1.2.0,>=0.9.6 in /usr/local/lib/python3.7/dist-packages (from spacy<2.4.0->pycaret) (1.1.3)\n",
            "Requirement already satisfied: thinc<7.5.0,>=7.4.1 in /usr/local/lib/python3.7/dist-packages (from spacy<2.4.0->pycaret) (7.4.5)\n",
            "Requirement already satisfied: zipp>=0.5 in /usr/local/lib/python3.7/dist-packages (from catalogue<1.1.0,>=0.0.7->spacy<2.4.0->pycaret) (3.9.0)\n",
            "Requirement already satisfied: packaging>=21.3 in /usr/local/lib/python3.7/dist-packages (from statsmodels<0.14,>=0.13.2->pandas-profiling>=2.8.0->pycaret) (21.3)\n",
            "Requirement already satisfied: patsy>=0.5.2 in /usr/local/lib/python3.7/dist-packages (from statsmodels<0.14,>=0.13.2->pandas-profiling>=2.8.0->pycaret) (0.5.3)\n",
            "Requirement already satisfied: notebook>=4.4.1 in /usr/local/lib/python3.7/dist-packages (from widgetsnbextension~=3.6.0->ipywidgets->pycaret) (5.5.0)\n",
            "Requirement already satisfied: Send2Trash in /usr/local/lib/python3.7/dist-packages (from notebook>=4.4.1->widgetsnbextension~=3.6.0->ipywidgets->pycaret) (1.8.0)\n",
            "Requirement already satisfied: pyzmq>=17 in /usr/local/lib/python3.7/dist-packages (from notebook>=4.4.1->widgetsnbextension~=3.6.0->ipywidgets->pycaret) (23.2.1)\n",
            "Requirement already satisfied: nbconvert in /usr/local/lib/python3.7/dist-packages (from notebook>=4.4.1->widgetsnbextension~=3.6.0->ipywidgets->pycaret) (5.6.1)\n",
            "Requirement already satisfied: jupyter-core>=4.4.0 in /usr/local/lib/python3.7/dist-packages (from notebook>=4.4.1->widgetsnbextension~=3.6.0->ipywidgets->pycaret) (4.11.1)\n",
            "Requirement already satisfied: nbformat in /usr/local/lib/python3.7/dist-packages (from notebook>=4.4.1->widgetsnbextension~=3.6.0->ipywidgets->pycaret) (5.7.0)\n",
            "Requirement already satisfied: terminado>=0.8.1 in /usr/local/lib/python3.7/dist-packages (from notebook>=4.4.1->widgetsnbextension~=3.6.0->ipywidgets->pycaret) (0.13.3)\n",
            "Requirement already satisfied: ptyprocess in /usr/local/lib/python3.7/dist-packages (from terminado>=0.8.1->notebook>=4.4.1->widgetsnbextension~=3.6.0->ipywidgets->pycaret) (0.7.0)\n",
            "Requirement already satisfied: PyWavelets in /usr/local/lib/python3.7/dist-packages (from imagehash->visions[type_image_path]==0.7.5->pandas-profiling>=2.8.0->pycaret) (1.3.0)\n",
            "Requirement already satisfied: prometheus-flask-exporter<1 in /usr/local/lib/python3.7/dist-packages (from mlflow->pycaret) (0.20.3)\n",
            "Requirement already satisfied: cloudpickle<3 in /usr/local/lib/python3.7/dist-packages (from mlflow->pycaret) (1.5.0)\n",
            "Requirement already satisfied: databricks-cli<1,>=0.8.7 in /usr/local/lib/python3.7/dist-packages (from mlflow->pycaret) (0.17.3)\n",
            "Requirement already satisfied: protobuf<5,>=3.12.0 in /usr/local/lib/python3.7/dist-packages (from mlflow->pycaret) (3.17.3)\n",
            "Requirement already satisfied: querystring-parser<2 in /usr/local/lib/python3.7/dist-packages (from mlflow->pycaret) (1.2.4)\n",
            "Requirement already satisfied: entrypoints<1 in /usr/local/lib/python3.7/dist-packages (from mlflow->pycaret) (0.4)\n",
            "Requirement already satisfied: alembic<2 in /usr/local/lib/python3.7/dist-packages (from mlflow->pycaret) (1.8.1)\n",
            "Requirement already satisfied: gitpython<4,>=2.1.0 in /usr/local/lib/python3.7/dist-packages (from mlflow->pycaret) (3.1.29)\n",
            "Requirement already satisfied: docker<7,>=4.0.0 in /usr/local/lib/python3.7/dist-packages (from mlflow->pycaret) (6.0.0)\n",
            "Requirement already satisfied: Flask<3 in /usr/local/lib/python3.7/dist-packages (from mlflow->pycaret) (1.1.4)\n",
            "Requirement already satisfied: click<9,>=7.0 in /usr/local/lib/python3.7/dist-packages (from mlflow->pycaret) (7.1.2)\n",
            "Requirement already satisfied: importlib-metadata!=4.7.0,<5,>=3.7.0 in /usr/local/lib/python3.7/dist-packages (from mlflow->pycaret) (4.13.0)\n",
            "Requirement already satisfied: sqlparse<1,>=0.4.0 in /usr/local/lib/python3.7/dist-packages (from mlflow->pycaret) (0.4.3)\n",
            "Requirement already satisfied: sqlalchemy<2,>=1.4.0 in /usr/local/lib/python3.7/dist-packages (from mlflow->pycaret) (1.4.41)\n",
            "Requirement already satisfied: gunicorn<21 in /usr/local/lib/python3.7/dist-packages (from mlflow->pycaret) (20.1.0)\n",
            "Requirement already satisfied: Mako in /usr/local/lib/python3.7/dist-packages (from alembic<2->mlflow->pycaret) (1.2.3)\n",
            "Requirement already satisfied: importlib-resources in /usr/local/lib/python3.7/dist-packages (from alembic<2->mlflow->pycaret) (5.10.0)\n",
            "Requirement already satisfied: pyjwt>=1.7.0 in /usr/local/lib/python3.7/dist-packages (from databricks-cli<1,>=0.8.7->mlflow->pycaret) (2.5.0)\n",
            "Requirement already satisfied: oauthlib>=3.1.0 in /usr/local/lib/python3.7/dist-packages (from databricks-cli<1,>=0.8.7->mlflow->pycaret) (3.2.1)\n",
            "Requirement already satisfied: tabulate>=0.7.7 in /usr/local/lib/python3.7/dist-packages (from databricks-cli<1,>=0.8.7->mlflow->pycaret) (0.8.10)\n",
            "Requirement already satisfied: websocket-client>=0.32.0 in /usr/local/lib/python3.7/dist-packages (from docker<7,>=4.0.0->mlflow->pycaret) (1.4.1)\n",
            "Requirement already satisfied: Werkzeug<2.0,>=0.15 in /usr/local/lib/python3.7/dist-packages (from Flask<3->mlflow->pycaret) (1.0.1)\n",
            "Requirement already satisfied: itsdangerous<2.0,>=0.24 in /usr/local/lib/python3.7/dist-packages (from Flask<3->mlflow->pycaret) (1.1.0)\n",
            "Requirement already satisfied: gitdb<5,>=4.0.1 in /usr/local/lib/python3.7/dist-packages (from gitpython<4,>=2.1.0->mlflow->pycaret) (4.0.9)\n",
            "Requirement already satisfied: smmap<6,>=3.0.1 in /usr/local/lib/python3.7/dist-packages (from gitdb<5,>=4.0.1->gitpython<4,>=2.1.0->mlflow->pycaret) (5.0.0)\n",
            "Requirement already satisfied: prometheus-client in /usr/local/lib/python3.7/dist-packages (from prometheus-flask-exporter<1->mlflow->pycaret) (0.15.0)\n",
            "Requirement already satisfied: greenlet!=0.4.17 in /usr/local/lib/python3.7/dist-packages (from sqlalchemy<2,>=1.4.0->mlflow->pycaret) (1.1.3.post0)\n",
            "Requirement already satisfied: mistune<2,>=0.8.1 in /usr/local/lib/python3.7/dist-packages (from nbconvert->notebook>=4.4.1->widgetsnbextension~=3.6.0->ipywidgets->pycaret) (0.8.4)\n",
            "Requirement already satisfied: testpath in /usr/local/lib/python3.7/dist-packages (from nbconvert->notebook>=4.4.1->widgetsnbextension~=3.6.0->ipywidgets->pycaret) (0.6.0)\n",
            "Requirement already satisfied: pandocfilters>=1.4.1 in /usr/local/lib/python3.7/dist-packages (from nbconvert->notebook>=4.4.1->widgetsnbextension~=3.6.0->ipywidgets->pycaret) (1.5.0)\n",
            "Requirement already satisfied: bleach in /usr/local/lib/python3.7/dist-packages (from nbconvert->notebook>=4.4.1->widgetsnbextension~=3.6.0->ipywidgets->pycaret) (5.0.1)\n",
            "Requirement already satisfied: defusedxml in /usr/local/lib/python3.7/dist-packages (from nbconvert->notebook>=4.4.1->widgetsnbextension~=3.6.0->ipywidgets->pycaret) (0.7.1)\n",
            "Requirement already satisfied: jsonschema>=2.6 in /usr/local/lib/python3.7/dist-packages (from nbformat->notebook>=4.4.1->widgetsnbextension~=3.6.0->ipywidgets->pycaret) (4.3.3)\n",
            "Requirement already satisfied: fastjsonschema in /usr/local/lib/python3.7/dist-packages (from nbformat->notebook>=4.4.1->widgetsnbextension~=3.6.0->ipywidgets->pycaret) (2.16.2)\n",
            "Requirement already satisfied: pyrsistent!=0.17.0,!=0.17.1,!=0.17.2,>=0.14.0 in /usr/local/lib/python3.7/dist-packages (from jsonschema>=2.6->nbformat->notebook>=4.4.1->widgetsnbextension~=3.6.0->ipywidgets->pycaret) (0.18.1)\n",
            "Requirement already satisfied: webencodings in /usr/local/lib/python3.7/dist-packages (from bleach->nbconvert->notebook>=4.4.1->widgetsnbextension~=3.6.0->ipywidgets->pycaret) (0.5.1)\n",
            "Requirement already satisfied: regex>=2021.8.3 in /usr/local/lib/python3.7/dist-packages (from nltk->pycaret) (2022.6.2)\n",
            "Requirement already satisfied: funcy in /usr/local/lib/python3.7/dist-packages (from pyLDAvis->pycaret) (1.17)\n",
            "Requirement already satisfied: future in /usr/local/lib/python3.7/dist-packages (from pyLDAvis->pycaret) (0.16.0)\n",
            "Requirement already satisfied: numexpr in /usr/local/lib/python3.7/dist-packages (from pyLDAvis->pycaret) (2.8.3)\n",
            "Requirement already satisfied: pynndescent>=0.5 in /usr/local/lib/python3.7/dist-packages (from umap-learn->pycaret) (0.5.7)\n"
          ]
        }
      ],
      "source": [
        "! pip install pycaret"
      ]
    },
    {
      "cell_type": "code",
      "execution_count": null,
      "metadata": {
        "id": "5_Cw__PmiHm2"
      },
      "outputs": [],
      "source": [
        "delimit_num =  train.shape[0]\n",
        "X = combined.loc[:delimit_num-1, :]\n",
        "test = combined.loc[delimit_num:, :].drop(['y'], axis=1)"
      ]
    },
    {
      "cell_type": "code",
      "execution_count": null,
      "metadata": {
        "colab": {
          "base_uri": "https://localhost:8080/"
        },
        "id": "GY2VgccN5TMw",
        "outputId": "74058d5e-9006-47a4-d6d1-380dc35dcdd1"
      },
      "outputs": [
        {
          "name": "stdout",
          "output_type": "stream",
          "text": [
            "X   : (321, 73)\n",
            "test: (144, 72)\n"
          ]
        }
      ],
      "source": [
        "print(\"X   :\", X.shape)\n",
        "print(\"test:\", test.shape)"
      ]
    },
    {
      "cell_type": "code",
      "execution_count": null,
      "metadata": {
        "colab": {
          "base_uri": "https://localhost:8080/"
        },
        "id": "nMx0s9xA8T9X",
        "outputId": "fae6325d-9737-49cf-9ada-d31b550297f5"
      },
      "outputs": [
        {
          "data": {
            "text/plain": [
              "array(['y', 'week', 'soldout', 'name', 'kcal', 'remarks', 'event',\n",
              "       'payday', 'weather', 'precipitation', 'temperature', 'kcal_nan',\n",
              "       'popular_curry', 'unpopular_curry', 'チキン', '唐揚げ', 'ハンバーグ', 'メンチカツ',\n",
              "       'エビフライ', '麻婆', '牛丼風', 'シチュー', '酢豚', 'チンジャオロース', '親子', '生姜', 'キムチ',\n",
              "       'ぶり照り', 'トンカツ', '白身魚', '油淋鶏', '炊き込みご飯', 'マスタード', '肉じゃが', 'スタミナ',\n",
              "       '柳川', 'コロッケ', 'エビカツ', '天ぷら', 'ビーフストロガノフ', '肉野菜オイスター', '鶏照り',\n",
              "       'レモンペッパー焼き', '鶏', '牛', '豚', '魚', '野菜', '焼き', '煮', 'フライ', '炒め',\n",
              "       'ソテー', '漬け', 'ムニエル', '和風', '洋風', '中華', 'サバ', 'エビ', 'イカ', '豆',\n",
              "       'ビビンバ', 'グリル', 'すき焼き', '回鍋肉', '挽肉', '胡椒', 'トマト', '味噌', '胡麻',\n",
              "       'タルタル', 'おろし'], dtype=object)"
            ]
          },
          "execution_count": 28,
          "metadata": {},
          "output_type": "execute_result"
        }
      ],
      "source": [
        "X.columns.values"
      ]
    },
    {
      "cell_type": "markdown",
      "metadata": {
        "id": "WEPq4bq5NmEY"
      },
      "source": [
        "## feaure"
      ]
    },
    {
      "cell_type": "code",
      "execution_count": null,
      "metadata": {
        "id": "QpCgPQVWpVJc"
      },
      "outputs": [],
      "source": [
        "# exp1\n",
        "\n",
        "categorical_features = [\n",
        "    'week', 'soldout', 'name', 'remarks', 'event','payday', 'weather',\n",
        "\n",
        "    'kcal_nan', 'popular_curry', 'キーマ', \n",
        "    'チキン', '唐揚げ', 'ハンバーグ', 'メンチカツ',\n",
        "    'エビフライ', '麻婆', '牛丼風', 'シチュー', '酢豚', 'チンジャオロース', '親子', '生姜', 'ぶり照り',\n",
        "    'トンカツ', '白身魚', '油淋鶏', '炊き込みご飯', 'マスタード', '肉じゃが', 'スタミナ', '柳川',\n",
        "    'コロッケ', 'エビカツ', '天ぷら', '肉野菜オイスター', '鶏照り', 'レモンペッパー焼き', '鶏', '牛',\n",
        "    '豚', '魚', '野菜', '焼き', '煮', 'フライ', '炒め', 'ソテー', '漬け', 'ムニエル', \n",
        "    #  '和風','洋風', '中華', \n",
        "    'サバ', 'エビ', 'イカ', '豆', 'ビビンバ', 'グリル', 'すき焼き', '回鍋肉',\n",
        "    '挽肉', '胡椒', 'トマト', '味噌', '胡麻', 'タルタル', 'おろし'\n",
        "    #'month'\n",
        "    ]\n",
        "\n",
        "numeric_features = [\n",
        "    \n",
        "   'kcal','precipitation', 'temperature',\n",
        "   \n",
        "    ]"
      ]
    },
    {
      "cell_type": "markdown",
      "metadata": {
        "id": "IkPKZ4UM_QVN"
      },
      "source": [
        "## setup"
      ]
    },
    {
      "cell_type": "code",
      "execution_count": null,
      "metadata": {
        "colab": {
          "base_uri": "https://localhost:8080/",
          "height": 1000,
          "referenced_widgets": [
            "42db1ddcf7784255adfaa0ed2ad07ae4",
            "b9d8d81624504952a8812f11b08b7e2c",
            "06ba0ac75a31456c9cf64dcd1f88ea8d",
            "81a20075468f409db4d954469a1c3eb0",
            "fa7ed5b4bb864294b7ed8254a3d4fb93",
            "1a2b5311474c4684b5f52edb0b78df25"
          ]
        },
        "id": "QUQmuzLxxdLL",
        "outputId": "542bba54-9c5b-4b0e-cc2f-a9e78478a93b"
      },
      "outputs": [
        {
          "data": {
            "text/html": [
              "\n",
              "  <div id=\"df-d91fe9b7-3ab2-49e7-b545-c41f3aca1e37\">\n",
              "    <div class=\"colab-df-container\">\n",
              "      <div>\n",
              "<style scoped>\n",
              "    .dataframe tbody tr th:only-of-type {\n",
              "        vertical-align: middle;\n",
              "    }\n",
              "\n",
              "    .dataframe tbody tr th {\n",
              "        vertical-align: top;\n",
              "    }\n",
              "\n",
              "    .dataframe thead th {\n",
              "        text-align: right;\n",
              "    }\n",
              "</style>\n",
              "<table border=\"1\" class=\"dataframe\">\n",
              "  <thead>\n",
              "    <tr style=\"text-align: right;\">\n",
              "      <th></th>\n",
              "      <th>Description</th>\n",
              "      <th>Value</th>\n",
              "    </tr>\n",
              "  </thead>\n",
              "  <tbody>\n",
              "    <tr>\n",
              "      <th>0</th>\n",
              "      <td>session_id</td>\n",
              "      <td>42</td>\n",
              "    </tr>\n",
              "    <tr>\n",
              "      <th>1</th>\n",
              "      <td>Target</td>\n",
              "      <td>y</td>\n",
              "    </tr>\n",
              "    <tr>\n",
              "      <th>2</th>\n",
              "      <td>Original Data</td>\n",
              "      <td>(321, 73)</td>\n",
              "    </tr>\n",
              "    <tr>\n",
              "      <th>3</th>\n",
              "      <td>Missing Values</td>\n",
              "      <td>True</td>\n",
              "    </tr>\n",
              "    <tr>\n",
              "      <th>4</th>\n",
              "      <td>Numeric Features</td>\n",
              "      <td>3</td>\n",
              "    </tr>\n",
              "    <tr>\n",
              "      <th>5</th>\n",
              "      <td>Categorical Features</td>\n",
              "      <td>69</td>\n",
              "    </tr>\n",
              "    <tr>\n",
              "      <th>6</th>\n",
              "      <td>Ordinal Features</td>\n",
              "      <td>False</td>\n",
              "    </tr>\n",
              "    <tr>\n",
              "      <th>7</th>\n",
              "      <td>High Cardinality Features</td>\n",
              "      <td>False</td>\n",
              "    </tr>\n",
              "    <tr>\n",
              "      <th>8</th>\n",
              "      <td>High Cardinality Method</td>\n",
              "      <td>None</td>\n",
              "    </tr>\n",
              "    <tr>\n",
              "      <th>9</th>\n",
              "      <td>Transformed Train Set</td>\n",
              "      <td>(320, 143)</td>\n",
              "    </tr>\n",
              "    <tr>\n",
              "      <th>10</th>\n",
              "      <td>Transformed Test Set</td>\n",
              "      <td>(1, 143)</td>\n",
              "    </tr>\n",
              "    <tr>\n",
              "      <th>11</th>\n",
              "      <td>Shuffle Train-Test</td>\n",
              "      <td>True</td>\n",
              "    </tr>\n",
              "    <tr>\n",
              "      <th>12</th>\n",
              "      <td>Stratify Train-Test</td>\n",
              "      <td>False</td>\n",
              "    </tr>\n",
              "    <tr>\n",
              "      <th>13</th>\n",
              "      <td>Fold Generator</td>\n",
              "      <td>KFold</td>\n",
              "    </tr>\n",
              "    <tr>\n",
              "      <th>14</th>\n",
              "      <td>Fold Number</td>\n",
              "      <td>10</td>\n",
              "    </tr>\n",
              "    <tr>\n",
              "      <th>15</th>\n",
              "      <td>CPU Jobs</td>\n",
              "      <td>-1</td>\n",
              "    </tr>\n",
              "    <tr>\n",
              "      <th>16</th>\n",
              "      <td>Use GPU</td>\n",
              "      <td>False</td>\n",
              "    </tr>\n",
              "    <tr>\n",
              "      <th>17</th>\n",
              "      <td>Log Experiment</td>\n",
              "      <td>False</td>\n",
              "    </tr>\n",
              "    <tr>\n",
              "      <th>18</th>\n",
              "      <td>Experiment Name</td>\n",
              "      <td>reg-default-name</td>\n",
              "    </tr>\n",
              "    <tr>\n",
              "      <th>19</th>\n",
              "      <td>USI</td>\n",
              "      <td>8ff8</td>\n",
              "    </tr>\n",
              "    <tr>\n",
              "      <th>20</th>\n",
              "      <td>Imputation Type</td>\n",
              "      <td>simple</td>\n",
              "    </tr>\n",
              "    <tr>\n",
              "      <th>21</th>\n",
              "      <td>Iterative Imputation Iteration</td>\n",
              "      <td>None</td>\n",
              "    </tr>\n",
              "    <tr>\n",
              "      <th>22</th>\n",
              "      <td>Numeric Imputer</td>\n",
              "      <td>mean</td>\n",
              "    </tr>\n",
              "    <tr>\n",
              "      <th>23</th>\n",
              "      <td>Iterative Imputation Numeric Model</td>\n",
              "      <td>None</td>\n",
              "    </tr>\n",
              "    <tr>\n",
              "      <th>24</th>\n",
              "      <td>Categorical Imputer</td>\n",
              "      <td>constant</td>\n",
              "    </tr>\n",
              "    <tr>\n",
              "      <th>25</th>\n",
              "      <td>Iterative Imputation Categorical Model</td>\n",
              "      <td>None</td>\n",
              "    </tr>\n",
              "    <tr>\n",
              "      <th>26</th>\n",
              "      <td>Unknown Categoricals Handling</td>\n",
              "      <td>least_frequent</td>\n",
              "    </tr>\n",
              "    <tr>\n",
              "      <th>27</th>\n",
              "      <td>Normalize</td>\n",
              "      <td>True</td>\n",
              "    </tr>\n",
              "    <tr>\n",
              "      <th>28</th>\n",
              "      <td>Normalize Method</td>\n",
              "      <td>zscore</td>\n",
              "    </tr>\n",
              "    <tr>\n",
              "      <th>29</th>\n",
              "      <td>Transformation</td>\n",
              "      <td>False</td>\n",
              "    </tr>\n",
              "    <tr>\n",
              "      <th>30</th>\n",
              "      <td>Transformation Method</td>\n",
              "      <td>None</td>\n",
              "    </tr>\n",
              "    <tr>\n",
              "      <th>31</th>\n",
              "      <td>PCA</td>\n",
              "      <td>False</td>\n",
              "    </tr>\n",
              "    <tr>\n",
              "      <th>32</th>\n",
              "      <td>PCA Method</td>\n",
              "      <td>None</td>\n",
              "    </tr>\n",
              "    <tr>\n",
              "      <th>33</th>\n",
              "      <td>PCA Components</td>\n",
              "      <td>None</td>\n",
              "    </tr>\n",
              "    <tr>\n",
              "      <th>34</th>\n",
              "      <td>Ignore Low Variance</td>\n",
              "      <td>False</td>\n",
              "    </tr>\n",
              "    <tr>\n",
              "      <th>35</th>\n",
              "      <td>Combine Rare Levels</td>\n",
              "      <td>False</td>\n",
              "    </tr>\n",
              "    <tr>\n",
              "      <th>36</th>\n",
              "      <td>Rare Level Threshold</td>\n",
              "      <td>None</td>\n",
              "    </tr>\n",
              "    <tr>\n",
              "      <th>37</th>\n",
              "      <td>Numeric Binning</td>\n",
              "      <td>False</td>\n",
              "    </tr>\n",
              "    <tr>\n",
              "      <th>38</th>\n",
              "      <td>Remove Outliers</td>\n",
              "      <td>False</td>\n",
              "    </tr>\n",
              "    <tr>\n",
              "      <th>39</th>\n",
              "      <td>Outliers Threshold</td>\n",
              "      <td>None</td>\n",
              "    </tr>\n",
              "    <tr>\n",
              "      <th>40</th>\n",
              "      <td>Remove Multicollinearity</td>\n",
              "      <td>False</td>\n",
              "    </tr>\n",
              "    <tr>\n",
              "      <th>41</th>\n",
              "      <td>Multicollinearity Threshold</td>\n",
              "      <td>None</td>\n",
              "    </tr>\n",
              "    <tr>\n",
              "      <th>42</th>\n",
              "      <td>Remove Perfect Collinearity</td>\n",
              "      <td>True</td>\n",
              "    </tr>\n",
              "    <tr>\n",
              "      <th>43</th>\n",
              "      <td>Clustering</td>\n",
              "      <td>False</td>\n",
              "    </tr>\n",
              "    <tr>\n",
              "      <th>44</th>\n",
              "      <td>Clustering Iteration</td>\n",
              "      <td>None</td>\n",
              "    </tr>\n",
              "    <tr>\n",
              "      <th>45</th>\n",
              "      <td>Polynomial Features</td>\n",
              "      <td>False</td>\n",
              "    </tr>\n",
              "    <tr>\n",
              "      <th>46</th>\n",
              "      <td>Polynomial Degree</td>\n",
              "      <td>None</td>\n",
              "    </tr>\n",
              "    <tr>\n",
              "      <th>47</th>\n",
              "      <td>Trignometry Features</td>\n",
              "      <td>False</td>\n",
              "    </tr>\n",
              "    <tr>\n",
              "      <th>48</th>\n",
              "      <td>Polynomial Threshold</td>\n",
              "      <td>None</td>\n",
              "    </tr>\n",
              "    <tr>\n",
              "      <th>49</th>\n",
              "      <td>Group Features</td>\n",
              "      <td>False</td>\n",
              "    </tr>\n",
              "    <tr>\n",
              "      <th>50</th>\n",
              "      <td>Feature Selection</td>\n",
              "      <td>False</td>\n",
              "    </tr>\n",
              "    <tr>\n",
              "      <th>51</th>\n",
              "      <td>Feature Selection Method</td>\n",
              "      <td>classic</td>\n",
              "    </tr>\n",
              "    <tr>\n",
              "      <th>52</th>\n",
              "      <td>Features Selection Threshold</td>\n",
              "      <td>None</td>\n",
              "    </tr>\n",
              "    <tr>\n",
              "      <th>53</th>\n",
              "      <td>Feature Interaction</td>\n",
              "      <td>False</td>\n",
              "    </tr>\n",
              "    <tr>\n",
              "      <th>54</th>\n",
              "      <td>Feature Ratio</td>\n",
              "      <td>False</td>\n",
              "    </tr>\n",
              "    <tr>\n",
              "      <th>55</th>\n",
              "      <td>Interaction Threshold</td>\n",
              "      <td>None</td>\n",
              "    </tr>\n",
              "    <tr>\n",
              "      <th>56</th>\n",
              "      <td>Transform Target</td>\n",
              "      <td>False</td>\n",
              "    </tr>\n",
              "    <tr>\n",
              "      <th>57</th>\n",
              "      <td>Transform Target Method</td>\n",
              "      <td>box-cox</td>\n",
              "    </tr>\n",
              "  </tbody>\n",
              "</table>\n",
              "</div>\n",
              "      <button class=\"colab-df-convert\" onclick=\"convertToInteractive('df-d91fe9b7-3ab2-49e7-b545-c41f3aca1e37')\"\n",
              "              title=\"Convert this dataframe to an interactive table.\"\n",
              "              style=\"display:none;\">\n",
              "        \n",
              "  <svg xmlns=\"http://www.w3.org/2000/svg\" height=\"24px\"viewBox=\"0 0 24 24\"\n",
              "       width=\"24px\">\n",
              "    <path d=\"M0 0h24v24H0V0z\" fill=\"none\"/>\n",
              "    <path d=\"M18.56 5.44l.94 2.06.94-2.06 2.06-.94-2.06-.94-.94-2.06-.94 2.06-2.06.94zm-11 1L8.5 8.5l.94-2.06 2.06-.94-2.06-.94L8.5 2.5l-.94 2.06-2.06.94zm10 10l.94 2.06.94-2.06 2.06-.94-2.06-.94-.94-2.06-.94 2.06-2.06.94z\"/><path d=\"M17.41 7.96l-1.37-1.37c-.4-.4-.92-.59-1.43-.59-.52 0-1.04.2-1.43.59L10.3 9.45l-7.72 7.72c-.78.78-.78 2.05 0 2.83L4 21.41c.39.39.9.59 1.41.59.51 0 1.02-.2 1.41-.59l7.78-7.78 2.81-2.81c.8-.78.8-2.07 0-2.86zM5.41 20L4 18.59l7.72-7.72 1.47 1.35L5.41 20z\"/>\n",
              "  </svg>\n",
              "      </button>\n",
              "      \n",
              "  <style>\n",
              "    .colab-df-container {\n",
              "      display:flex;\n",
              "      flex-wrap:wrap;\n",
              "      gap: 12px;\n",
              "    }\n",
              "\n",
              "    .colab-df-convert {\n",
              "      background-color: #E8F0FE;\n",
              "      border: none;\n",
              "      border-radius: 50%;\n",
              "      cursor: pointer;\n",
              "      display: none;\n",
              "      fill: #1967D2;\n",
              "      height: 32px;\n",
              "      padding: 0 0 0 0;\n",
              "      width: 32px;\n",
              "    }\n",
              "\n",
              "    .colab-df-convert:hover {\n",
              "      background-color: #E2EBFA;\n",
              "      box-shadow: 0px 1px 2px rgba(60, 64, 67, 0.3), 0px 1px 3px 1px rgba(60, 64, 67, 0.15);\n",
              "      fill: #174EA6;\n",
              "    }\n",
              "\n",
              "    [theme=dark] .colab-df-convert {\n",
              "      background-color: #3B4455;\n",
              "      fill: #D2E3FC;\n",
              "    }\n",
              "\n",
              "    [theme=dark] .colab-df-convert:hover {\n",
              "      background-color: #434B5C;\n",
              "      box-shadow: 0px 1px 3px 1px rgba(0, 0, 0, 0.15);\n",
              "      filter: drop-shadow(0px 1px 2px rgba(0, 0, 0, 0.3));\n",
              "      fill: #FFFFFF;\n",
              "    }\n",
              "  </style>\n",
              "\n",
              "      <script>\n",
              "        const buttonEl =\n",
              "          document.querySelector('#df-d91fe9b7-3ab2-49e7-b545-c41f3aca1e37 button.colab-df-convert');\n",
              "        buttonEl.style.display =\n",
              "          google.colab.kernel.accessAllowed ? 'block' : 'none';\n",
              "\n",
              "        async function convertToInteractive(key) {\n",
              "          const element = document.querySelector('#df-d91fe9b7-3ab2-49e7-b545-c41f3aca1e37');\n",
              "          const dataTable =\n",
              "            await google.colab.kernel.invokeFunction('convertToInteractive',\n",
              "                                                     [key], {});\n",
              "          if (!dataTable) return;\n",
              "\n",
              "          const docLinkHtml = 'Like what you see? Visit the ' +\n",
              "            '<a target=\"_blank\" href=https://colab.research.google.com/notebooks/data_table.ipynb>data table notebook</a>'\n",
              "            + ' to learn more about interactive tables.';\n",
              "          element.innerHTML = '';\n",
              "          dataTable['output_type'] = 'display_data';\n",
              "          await google.colab.output.renderOutput(dataTable, element);\n",
              "          const docLink = document.createElement('div');\n",
              "          docLink.innerHTML = docLinkHtml;\n",
              "          element.appendChild(docLink);\n",
              "        }\n",
              "      </script>\n",
              "    </div>\n",
              "  </div>\n",
              "  "
            ],
            "text/plain": [
              "                               Description             Value\n",
              "0                               session_id                42\n",
              "1                                   Target                 y\n",
              "2                            Original Data         (321, 73)\n",
              "3                           Missing Values              True\n",
              "4                         Numeric Features                 3\n",
              "5                     Categorical Features                69\n",
              "6                         Ordinal Features             False\n",
              "7                High Cardinality Features             False\n",
              "8                  High Cardinality Method              None\n",
              "9                    Transformed Train Set        (320, 143)\n",
              "10                    Transformed Test Set          (1, 143)\n",
              "11                      Shuffle Train-Test              True\n",
              "12                     Stratify Train-Test             False\n",
              "13                          Fold Generator             KFold\n",
              "14                             Fold Number                10\n",
              "15                                CPU Jobs                -1\n",
              "16                                 Use GPU             False\n",
              "17                          Log Experiment             False\n",
              "18                         Experiment Name  reg-default-name\n",
              "19                                     USI              8ff8\n",
              "20                         Imputation Type            simple\n",
              "21          Iterative Imputation Iteration              None\n",
              "22                         Numeric Imputer              mean\n",
              "23      Iterative Imputation Numeric Model              None\n",
              "24                     Categorical Imputer          constant\n",
              "25  Iterative Imputation Categorical Model              None\n",
              "26           Unknown Categoricals Handling    least_frequent\n",
              "27                               Normalize              True\n",
              "28                        Normalize Method            zscore\n",
              "29                          Transformation             False\n",
              "30                   Transformation Method              None\n",
              "31                                     PCA             False\n",
              "32                              PCA Method              None\n",
              "33                          PCA Components              None\n",
              "34                     Ignore Low Variance             False\n",
              "35                     Combine Rare Levels             False\n",
              "36                    Rare Level Threshold              None\n",
              "37                         Numeric Binning             False\n",
              "38                         Remove Outliers             False\n",
              "39                      Outliers Threshold              None\n",
              "40                Remove Multicollinearity             False\n",
              "41             Multicollinearity Threshold              None\n",
              "42             Remove Perfect Collinearity              True\n",
              "43                              Clustering             False\n",
              "44                    Clustering Iteration              None\n",
              "45                     Polynomial Features             False\n",
              "46                       Polynomial Degree              None\n",
              "47                    Trignometry Features             False\n",
              "48                    Polynomial Threshold              None\n",
              "49                          Group Features             False\n",
              "50                       Feature Selection             False\n",
              "51                Feature Selection Method           classic\n",
              "52            Features Selection Threshold              None\n",
              "53                     Feature Interaction             False\n",
              "54                           Feature Ratio             False\n",
              "55                   Interaction Threshold              None\n",
              "56                        Transform Target             False\n",
              "57                 Transform Target Method           box-cox"
            ]
          },
          "metadata": {},
          "output_type": "display_data"
        },
        {
          "name": "stderr",
          "output_type": "stream",
          "text": [
            "INFO:logs:create_model_container: 0\n",
            "INFO:logs:master_model_container: 0\n",
            "INFO:logs:display_container: 1\n",
            "INFO:logs:Pipeline(memory=None,\n",
            "         steps=[('dtypes',\n",
            "                 DataTypes_Auto_infer(categorical_features=['week', 'soldout',\n",
            "                                                            'name', 'remarks',\n",
            "                                                            'event', 'payday',\n",
            "                                                            'weather',\n",
            "                                                            'kcal_nan',\n",
            "                                                            'popular_curry',\n",
            "                                                            'unpopular_curry',\n",
            "                                                            'チキン', '唐揚げ',\n",
            "                                                            'ハンバーグ', 'メンチカツ',\n",
            "                                                            'エビフライ', '麻婆',\n",
            "                                                            '牛丼風', 'シチュー', '酢豚',\n",
            "                                                            'チンジャオロース', '親子',\n",
            "                                                            '生姜', 'ぶり照り',\n",
            "                                                            'トンカツ', '白身魚',\n",
            "                                                            '油淋鶏', '炊き込みご飯',\n",
            "                                                            'マスタード', '肉じゃが',\n",
            "                                                            'スタミナ', ...],\n",
            "                                      display_types=True, fe...\n",
            "                                                  target='y')),\n",
            "                ('P_transform', 'passthrough'), ('binn', 'passthrough'),\n",
            "                ('rem_outliers', 'passthrough'), ('cluster_all', 'passthrough'),\n",
            "                ('dummy', Dummify(target='y')),\n",
            "                ('fix_perfect', Remove_100(target='y')),\n",
            "                ('clean_names', Clean_Colum_Names()),\n",
            "                ('feature_select', 'passthrough'), ('fix_multi', 'passthrough'),\n",
            "                ('dfs', 'passthrough'), ('pca', 'passthrough')],\n",
            "         verbose=False)\n",
            "INFO:logs:setup() succesfully completed......................................\n"
          ]
        }
      ],
      "source": [
        "from pycaret.regression import *\n",
        "\n",
        "exp = setup(\n",
        "        data=X,\n",
        "        target='y',\n",
        "        session_id=42,\n",
        "        normalize = True,\n",
        "        train_size = 0.999, # trainとtestで分割させない\n",
        "        categorical_features = categorical_features, \n",
        "        numeric_features = numeric_features,\n",
        "        )"
      ]
    },
    {
      "cell_type": "markdown",
      "metadata": {
        "id": "gw7znHMrhC51"
      },
      "source": [
        "## create_model"
      ]
    },
    {
      "cell_type": "code",
      "execution_count": null,
      "metadata": {
        "colab": {
          "base_uri": "https://localhost:8080/",
          "height": 501,
          "referenced_widgets": [
            "5afdad4e83f6448bbaebae37bea58239",
            "a560414a03a047609dd630b90a2c4098",
            "8be5d313e6d941f9b502cffbd6c595f2"
          ]
        },
        "id": "vsRW8EhIhDB-",
        "outputId": "f332d680-9c65-47a7-a3d0-74802ed6251c"
      },
      "outputs": [
        {
          "data": {
            "text/html": [
              "\n",
              "  <div id=\"df-4ca7360d-3ad2-4c1a-9380-1f1853045bdc\">\n",
              "    <div class=\"colab-df-container\">\n",
              "      <div>\n",
              "<style scoped>\n",
              "    .dataframe tbody tr th:only-of-type {\n",
              "        vertical-align: middle;\n",
              "    }\n",
              "\n",
              "    .dataframe tbody tr th {\n",
              "        vertical-align: top;\n",
              "    }\n",
              "\n",
              "    .dataframe thead th {\n",
              "        text-align: right;\n",
              "    }\n",
              "</style>\n",
              "<table border=\"1\" class=\"dataframe\">\n",
              "  <thead>\n",
              "    <tr style=\"text-align: right;\">\n",
              "      <th></th>\n",
              "      <th>MAE</th>\n",
              "      <th>MSE</th>\n",
              "      <th>RMSE</th>\n",
              "      <th>R2</th>\n",
              "      <th>RMSLE</th>\n",
              "      <th>MAPE</th>\n",
              "    </tr>\n",
              "    <tr>\n",
              "      <th>Fold</th>\n",
              "      <th></th>\n",
              "      <th></th>\n",
              "      <th></th>\n",
              "      <th></th>\n",
              "      <th></th>\n",
              "      <th></th>\n",
              "    </tr>\n",
              "  </thead>\n",
              "  <tbody>\n",
              "    <tr>\n",
              "      <th>0</th>\n",
              "      <td>8.9542</td>\n",
              "      <td>124.7189</td>\n",
              "      <td>11.1678</td>\n",
              "      <td>0.7413</td>\n",
              "      <td>0.1821</td>\n",
              "      <td>0.1512</td>\n",
              "    </tr>\n",
              "    <tr>\n",
              "      <th>1</th>\n",
              "      <td>9.0011</td>\n",
              "      <td>124.1566</td>\n",
              "      <td>11.1426</td>\n",
              "      <td>0.6435</td>\n",
              "      <td>0.1980</td>\n",
              "      <td>0.1627</td>\n",
              "    </tr>\n",
              "    <tr>\n",
              "      <th>2</th>\n",
              "      <td>7.7680</td>\n",
              "      <td>99.6614</td>\n",
              "      <td>9.9831</td>\n",
              "      <td>0.7200</td>\n",
              "      <td>0.1733</td>\n",
              "      <td>0.1433</td>\n",
              "    </tr>\n",
              "    <tr>\n",
              "      <th>3</th>\n",
              "      <td>7.9227</td>\n",
              "      <td>121.8013</td>\n",
              "      <td>11.0364</td>\n",
              "      <td>0.5933</td>\n",
              "      <td>0.1740</td>\n",
              "      <td>0.1283</td>\n",
              "    </tr>\n",
              "    <tr>\n",
              "      <th>4</th>\n",
              "      <td>10.4328</td>\n",
              "      <td>161.2633</td>\n",
              "      <td>12.6989</td>\n",
              "      <td>0.4951</td>\n",
              "      <td>0.2157</td>\n",
              "      <td>0.1868</td>\n",
              "    </tr>\n",
              "    <tr>\n",
              "      <th>Mean</th>\n",
              "      <td>8.8158</td>\n",
              "      <td>126.3203</td>\n",
              "      <td>11.2057</td>\n",
              "      <td>0.6386</td>\n",
              "      <td>0.1886</td>\n",
              "      <td>0.1545</td>\n",
              "    </tr>\n",
              "    <tr>\n",
              "      <th>Std</th>\n",
              "      <td>0.9554</td>\n",
              "      <td>19.7958</td>\n",
              "      <td>0.8670</td>\n",
              "      <td>0.0893</td>\n",
              "      <td>0.0162</td>\n",
              "      <td>0.0196</td>\n",
              "    </tr>\n",
              "  </tbody>\n",
              "</table>\n",
              "</div>\n",
              "      <button class=\"colab-df-convert\" onclick=\"convertToInteractive('df-4ca7360d-3ad2-4c1a-9380-1f1853045bdc')\"\n",
              "              title=\"Convert this dataframe to an interactive table.\"\n",
              "              style=\"display:none;\">\n",
              "        \n",
              "  <svg xmlns=\"http://www.w3.org/2000/svg\" height=\"24px\"viewBox=\"0 0 24 24\"\n",
              "       width=\"24px\">\n",
              "    <path d=\"M0 0h24v24H0V0z\" fill=\"none\"/>\n",
              "    <path d=\"M18.56 5.44l.94 2.06.94-2.06 2.06-.94-2.06-.94-.94-2.06-.94 2.06-2.06.94zm-11 1L8.5 8.5l.94-2.06 2.06-.94-2.06-.94L8.5 2.5l-.94 2.06-2.06.94zm10 10l.94 2.06.94-2.06 2.06-.94-2.06-.94-.94-2.06-.94 2.06-2.06.94z\"/><path d=\"M17.41 7.96l-1.37-1.37c-.4-.4-.92-.59-1.43-.59-.52 0-1.04.2-1.43.59L10.3 9.45l-7.72 7.72c-.78.78-.78 2.05 0 2.83L4 21.41c.39.39.9.59 1.41.59.51 0 1.02-.2 1.41-.59l7.78-7.78 2.81-2.81c.8-.78.8-2.07 0-2.86zM5.41 20L4 18.59l7.72-7.72 1.47 1.35L5.41 20z\"/>\n",
              "  </svg>\n",
              "      </button>\n",
              "      \n",
              "  <style>\n",
              "    .colab-df-container {\n",
              "      display:flex;\n",
              "      flex-wrap:wrap;\n",
              "      gap: 12px;\n",
              "    }\n",
              "\n",
              "    .colab-df-convert {\n",
              "      background-color: #E8F0FE;\n",
              "      border: none;\n",
              "      border-radius: 50%;\n",
              "      cursor: pointer;\n",
              "      display: none;\n",
              "      fill: #1967D2;\n",
              "      height: 32px;\n",
              "      padding: 0 0 0 0;\n",
              "      width: 32px;\n",
              "    }\n",
              "\n",
              "    .colab-df-convert:hover {\n",
              "      background-color: #E2EBFA;\n",
              "      box-shadow: 0px 1px 2px rgba(60, 64, 67, 0.3), 0px 1px 3px 1px rgba(60, 64, 67, 0.15);\n",
              "      fill: #174EA6;\n",
              "    }\n",
              "\n",
              "    [theme=dark] .colab-df-convert {\n",
              "      background-color: #3B4455;\n",
              "      fill: #D2E3FC;\n",
              "    }\n",
              "\n",
              "    [theme=dark] .colab-df-convert:hover {\n",
              "      background-color: #434B5C;\n",
              "      box-shadow: 0px 1px 3px 1px rgba(0, 0, 0, 0.15);\n",
              "      filter: drop-shadow(0px 1px 2px rgba(0, 0, 0, 0.3));\n",
              "      fill: #FFFFFF;\n",
              "    }\n",
              "  </style>\n",
              "\n",
              "      <script>\n",
              "        const buttonEl =\n",
              "          document.querySelector('#df-4ca7360d-3ad2-4c1a-9380-1f1853045bdc button.colab-df-convert');\n",
              "        buttonEl.style.display =\n",
              "          google.colab.kernel.accessAllowed ? 'block' : 'none';\n",
              "\n",
              "        async function convertToInteractive(key) {\n",
              "          const element = document.querySelector('#df-4ca7360d-3ad2-4c1a-9380-1f1853045bdc');\n",
              "          const dataTable =\n",
              "            await google.colab.kernel.invokeFunction('convertToInteractive',\n",
              "                                                     [key], {});\n",
              "          if (!dataTable) return;\n",
              "\n",
              "          const docLinkHtml = 'Like what you see? Visit the ' +\n",
              "            '<a target=\"_blank\" href=https://colab.research.google.com/notebooks/data_table.ipynb>data table notebook</a>'\n",
              "            + ' to learn more about interactive tables.';\n",
              "          element.innerHTML = '';\n",
              "          dataTable['output_type'] = 'display_data';\n",
              "          await google.colab.output.renderOutput(dataTable, element);\n",
              "          const docLink = document.createElement('div');\n",
              "          docLink.innerHTML = docLinkHtml;\n",
              "          element.appendChild(docLink);\n",
              "        }\n",
              "      </script>\n",
              "    </div>\n",
              "  </div>\n",
              "  "
            ],
            "text/plain": [
              "          MAE       MSE     RMSE      R2   RMSLE    MAPE\n",
              "Fold                                                    \n",
              "0      8.9542  124.7189  11.1678  0.7413  0.1821  0.1512\n",
              "1      9.0011  124.1566  11.1426  0.6435  0.1980  0.1627\n",
              "2      7.7680   99.6614   9.9831  0.7200  0.1733  0.1433\n",
              "3      7.9227  121.8013  11.0364  0.5933  0.1740  0.1283\n",
              "4     10.4328  161.2633  12.6989  0.4951  0.2157  0.1868\n",
              "Mean   8.8158  126.3203  11.2057  0.6386  0.1886  0.1545\n",
              "Std    0.9554   19.7958   0.8670  0.0893  0.0162  0.0196"
            ]
          },
          "metadata": {},
          "output_type": "display_data"
        },
        {
          "name": "stderr",
          "output_type": "stream",
          "text": [
            "INFO:logs:create_model_container: 1\n",
            "INFO:logs:master_model_container: 1\n",
            "INFO:logs:display_container: 2\n",
            "INFO:logs:RandomForestRegressor(bootstrap=True, ccp_alpha=0.0, criterion='mse',\n",
            "                      max_depth=None, max_features='auto', max_leaf_nodes=None,\n",
            "                      max_samples=None, min_impurity_decrease=0.0,\n",
            "                      min_impurity_split=None, min_samples_leaf=1,\n",
            "                      min_samples_split=2, min_weight_fraction_leaf=0.0,\n",
            "                      n_estimators=100, n_jobs=-1, oob_score=False,\n",
            "                      random_state=42, verbose=0, warm_start=False)\n",
            "INFO:logs:create_model() succesfully completed......................................\n"
          ]
        }
      ],
      "source": [
        "model = create_model('rf', fold = 5)"
      ]
    },
    {
      "cell_type": "markdown",
      "metadata": {
        "id": "NFgIZnRm_Zrs"
      },
      "source": [
        "## tune_model"
      ]
    },
    {
      "cell_type": "code",
      "execution_count": null,
      "metadata": {
        "id": "mQdLLND4kdC9"
      },
      "outputs": [],
      "source": [
        "tuned_model = tune_model(model, fold=5, n_iter=100)"
      ]
    },
    {
      "cell_type": "markdown",
      "metadata": {
        "id": "xHPIGC5w_dUc"
      },
      "source": [
        "## evaluate_model"
      ]
    },
    {
      "cell_type": "code",
      "execution_count": null,
      "metadata": {
        "id": "EyFSKVBlmoUM"
      },
      "outputs": [],
      "source": [
        "evaluate_model(tuned_model)"
      ]
    },
    {
      "cell_type": "markdown",
      "metadata": {
        "id": "sz2ZBIef-Wld"
      },
      "source": [
        "## finalize_model"
      ]
    },
    {
      "cell_type": "code",
      "execution_count": null,
      "metadata": {
        "id": "Bnn3RyBv-Tsd"
      },
      "outputs": [],
      "source": [
        "final_model = finalize_model(tuned_model)"
      ]
    },
    {
      "cell_type": "markdown",
      "metadata": {
        "id": "DR9s1WHF-bh-"
      },
      "source": [
        "## predict_model"
      ]
    },
    {
      "cell_type": "markdown",
      "metadata": {
        "id": "w2Jwuf5BDJQH"
      },
      "source": [
        "### final_model"
      ]
    },
    {
      "cell_type": "code",
      "execution_count": null,
      "metadata": {
        "id": "iH54epSDmpTZ"
      },
      "outputs": [],
      "source": [
        "pred_esb = predict_model(final_model, test)"
      ]
    },
    {
      "cell_type": "code",
      "execution_count": null,
      "metadata": {
        "id": "Gzvu5LUG-tBM"
      },
      "outputs": [],
      "source": [
        "pred_esb['Label']"
      ]
    },
    {
      "cell_type": "markdown",
      "metadata": {
        "id": "aVrTP1nYBs2h"
      },
      "source": [
        "# 提出前確認"
      ]
    },
    {
      "cell_type": "code",
      "execution_count": null,
      "metadata": {
        "id": "gsTlPrOPBUN8"
      },
      "outputs": [],
      "source": [
        "X['y'].plot(figsize=(15,4))"
      ]
    },
    {
      "cell_type": "code",
      "execution_count": null,
      "metadata": {
        "id": "HXPYFbvLBP27"
      },
      "outputs": [],
      "source": [
        "pred_esb['Label'].plot(figsize=(15,4))"
      ]
    },
    {
      "cell_type": "code",
      "execution_count": null,
      "metadata": {
        "id": "tVsNgNae-uYF"
      },
      "outputs": [],
      "source": [
        "test_confirmation['y'] = pred_esb['Label']"
      ]
    },
    {
      "cell_type": "code",
      "execution_count": null,
      "metadata": {
        "id": "CZuUAp3_H8Xh"
      },
      "outputs": [],
      "source": [
        "pd.set_option('display.max_rows', 1000)\n",
        "pd.set_option('display.max_columns', 1000)"
      ]
    },
    {
      "cell_type": "code",
      "execution_count": null,
      "metadata": {
        "id": "JYnytkGF-1_G"
      },
      "outputs": [],
      "source": [
        "test_confirmation.loc[:,['y','week','name']]"
      ]
    },
    {
      "cell_type": "markdown",
      "metadata": {
        "id": "YaLeRnDZjJ2R"
      },
      "source": [
        "# Submit"
      ]
    },
    {
      "cell_type": "code",
      "execution_count": null,
      "metadata": {
        "id": "JFz_8wwhG_Em"
      },
      "outputs": [],
      "source": [
        "とまる"
      ]
    },
    {
      "cell_type": "code",
      "execution_count": null,
      "metadata": {
        "id": "BDQiB0Gj_0R2"
      },
      "outputs": [],
      "source": [
        "submit = pd.read_csv(path + 'submit_sample.csv', header=None)\n",
        "submit.iloc[:,[1]] = pred_esb['Label'].values"
      ]
    },
    {
      "cell_type": "code",
      "execution_count": null,
      "metadata": {
        "id": "albMMSpjA5GY"
      },
      "outputs": [],
      "source": [
        "# Google Drive・Google Colaboratoryで作業する場合\n",
        "submit.to_csv('AutoML_final_exp2_9.csv', header=None, index=None)\n",
        "\n",
        "from google.colab import files\n",
        "files.download('AutoML_final_exp2_9.csv')"
      ]
    }
  ],
  "metadata": {
    "colab": {
      "provenance": [],
      "toc_visible": true
    },
    "kernelspec": {
      "display_name": "Python 3.9.5 64-bit",
      "language": "python",
      "name": "python3"
    },
    "language_info": {
      "name": "python",
      "version": "3.9.5"
    },
    "vscode": {
      "interpreter": {
        "hash": "aee8b7b246df8f9039afb4144a1f6fd8d2ca17a180786b69acc140d282b71a49"
      }
    },
    "widgets": {
      "application/vnd.jupyter.widget-state+json": {
        "06ba0ac75a31456c9cf64dcd1f88ea8d": {
          "model_module": "@jupyter-widgets/controls",
          "model_module_version": "1.5.0",
          "model_name": "ProgressStyleModel",
          "state": {
            "_model_module": "@jupyter-widgets/controls",
            "_model_module_version": "1.5.0",
            "_model_name": "ProgressStyleModel",
            "_view_count": null,
            "_view_module": "@jupyter-widgets/base",
            "_view_module_version": "1.2.0",
            "_view_name": "StyleView",
            "bar_color": null,
            "description_width": ""
          }
        },
        "1a2b5311474c4684b5f52edb0b78df25": {
          "model_module": "@jupyter-widgets/controls",
          "model_module_version": "1.5.0",
          "model_name": "DescriptionStyleModel",
          "state": {
            "_model_module": "@jupyter-widgets/controls",
            "_model_module_version": "1.5.0",
            "_model_name": "DescriptionStyleModel",
            "_view_count": null,
            "_view_module": "@jupyter-widgets/base",
            "_view_module_version": "1.2.0",
            "_view_name": "StyleView",
            "description_width": ""
          }
        },
        "42db1ddcf7784255adfaa0ed2ad07ae4": {
          "model_module": "@jupyter-widgets/controls",
          "model_module_version": "1.5.0",
          "model_name": "IntProgressModel",
          "state": {
            "_dom_classes": [],
            "_model_module": "@jupyter-widgets/controls",
            "_model_module_version": "1.5.0",
            "_model_name": "IntProgressModel",
            "_view_count": null,
            "_view_module": "@jupyter-widgets/controls",
            "_view_module_version": "1.5.0",
            "_view_name": "ProgressView",
            "bar_style": "",
            "description": "Processing: ",
            "description_tooltip": null,
            "layout": "IPY_MODEL_b9d8d81624504952a8812f11b08b7e2c",
            "max": 3,
            "min": 0,
            "orientation": "horizontal",
            "style": "IPY_MODEL_06ba0ac75a31456c9cf64dcd1f88ea8d",
            "value": 3
          }
        },
        "5afdad4e83f6448bbaebae37bea58239": {
          "model_module": "@jupyter-widgets/controls",
          "model_module_version": "1.5.0",
          "model_name": "IntProgressModel",
          "state": {
            "_dom_classes": [],
            "_model_module": "@jupyter-widgets/controls",
            "_model_module_version": "1.5.0",
            "_model_name": "IntProgressModel",
            "_view_count": null,
            "_view_module": "@jupyter-widgets/controls",
            "_view_module_version": "1.5.0",
            "_view_name": "ProgressView",
            "bar_style": "",
            "description": "Processing: ",
            "description_tooltip": null,
            "layout": "IPY_MODEL_a560414a03a047609dd630b90a2c4098",
            "max": 4,
            "min": 0,
            "orientation": "horizontal",
            "style": "IPY_MODEL_8be5d313e6d941f9b502cffbd6c595f2",
            "value": 4
          }
        },
        "81a20075468f409db4d954469a1c3eb0": {
          "model_module": "@jupyter-widgets/controls",
          "model_module_version": "1.5.0",
          "model_name": "TextModel",
          "state": {
            "_dom_classes": [],
            "_model_module": "@jupyter-widgets/controls",
            "_model_module_version": "1.5.0",
            "_model_name": "TextModel",
            "_view_count": null,
            "_view_module": "@jupyter-widgets/controls",
            "_view_module_version": "1.5.0",
            "_view_name": "TextView",
            "continuous_update": true,
            "description": "",
            "description_tooltip": null,
            "disabled": false,
            "layout": "IPY_MODEL_fa7ed5b4bb864294b7ed8254a3d4fb93",
            "placeholder": "​",
            "style": "IPY_MODEL_1a2b5311474c4684b5f52edb0b78df25",
            "value": "Following data types have been inferred automatically, if they are correct press enter to continue or type 'quit' otherwise."
          }
        },
        "8be5d313e6d941f9b502cffbd6c595f2": {
          "model_module": "@jupyter-widgets/controls",
          "model_module_version": "1.5.0",
          "model_name": "ProgressStyleModel",
          "state": {
            "_model_module": "@jupyter-widgets/controls",
            "_model_module_version": "1.5.0",
            "_model_name": "ProgressStyleModel",
            "_view_count": null,
            "_view_module": "@jupyter-widgets/base",
            "_view_module_version": "1.2.0",
            "_view_name": "StyleView",
            "bar_color": null,
            "description_width": ""
          }
        },
        "a560414a03a047609dd630b90a2c4098": {
          "model_module": "@jupyter-widgets/base",
          "model_module_version": "1.2.0",
          "model_name": "LayoutModel",
          "state": {
            "_model_module": "@jupyter-widgets/base",
            "_model_module_version": "1.2.0",
            "_model_name": "LayoutModel",
            "_view_count": null,
            "_view_module": "@jupyter-widgets/base",
            "_view_module_version": "1.2.0",
            "_view_name": "LayoutView",
            "align_content": null,
            "align_items": null,
            "align_self": null,
            "border": null,
            "bottom": null,
            "display": null,
            "flex": null,
            "flex_flow": null,
            "grid_area": null,
            "grid_auto_columns": null,
            "grid_auto_flow": null,
            "grid_auto_rows": null,
            "grid_column": null,
            "grid_gap": null,
            "grid_row": null,
            "grid_template_areas": null,
            "grid_template_columns": null,
            "grid_template_rows": null,
            "height": null,
            "justify_content": null,
            "justify_items": null,
            "left": null,
            "margin": null,
            "max_height": null,
            "max_width": null,
            "min_height": null,
            "min_width": null,
            "object_fit": null,
            "object_position": null,
            "order": null,
            "overflow": null,
            "overflow_x": null,
            "overflow_y": null,
            "padding": null,
            "right": null,
            "top": null,
            "visibility": null,
            "width": null
          }
        },
        "b9d8d81624504952a8812f11b08b7e2c": {
          "model_module": "@jupyter-widgets/base",
          "model_module_version": "1.2.0",
          "model_name": "LayoutModel",
          "state": {
            "_model_module": "@jupyter-widgets/base",
            "_model_module_version": "1.2.0",
            "_model_name": "LayoutModel",
            "_view_count": null,
            "_view_module": "@jupyter-widgets/base",
            "_view_module_version": "1.2.0",
            "_view_name": "LayoutView",
            "align_content": null,
            "align_items": null,
            "align_self": null,
            "border": null,
            "bottom": null,
            "display": null,
            "flex": null,
            "flex_flow": null,
            "grid_area": null,
            "grid_auto_columns": null,
            "grid_auto_flow": null,
            "grid_auto_rows": null,
            "grid_column": null,
            "grid_gap": null,
            "grid_row": null,
            "grid_template_areas": null,
            "grid_template_columns": null,
            "grid_template_rows": null,
            "height": null,
            "justify_content": null,
            "justify_items": null,
            "left": null,
            "margin": null,
            "max_height": null,
            "max_width": null,
            "min_height": null,
            "min_width": null,
            "object_fit": null,
            "object_position": null,
            "order": null,
            "overflow": null,
            "overflow_x": null,
            "overflow_y": null,
            "padding": null,
            "right": null,
            "top": null,
            "visibility": null,
            "width": null
          }
        },
        "fa7ed5b4bb864294b7ed8254a3d4fb93": {
          "model_module": "@jupyter-widgets/base",
          "model_module_version": "1.2.0",
          "model_name": "LayoutModel",
          "state": {
            "_model_module": "@jupyter-widgets/base",
            "_model_module_version": "1.2.0",
            "_model_name": "LayoutModel",
            "_view_count": null,
            "_view_module": "@jupyter-widgets/base",
            "_view_module_version": "1.2.0",
            "_view_name": "LayoutView",
            "align_content": null,
            "align_items": null,
            "align_self": null,
            "border": null,
            "bottom": null,
            "display": null,
            "flex": null,
            "flex_flow": null,
            "grid_area": null,
            "grid_auto_columns": null,
            "grid_auto_flow": null,
            "grid_auto_rows": null,
            "grid_column": null,
            "grid_gap": null,
            "grid_row": null,
            "grid_template_areas": null,
            "grid_template_columns": null,
            "grid_template_rows": null,
            "height": null,
            "justify_content": null,
            "justify_items": null,
            "left": null,
            "margin": null,
            "max_height": null,
            "max_width": null,
            "min_height": null,
            "min_width": null,
            "object_fit": null,
            "object_position": null,
            "order": null,
            "overflow": null,
            "overflow_x": null,
            "overflow_y": null,
            "padding": null,
            "right": null,
            "top": null,
            "visibility": null,
            "width": "100%"
          }
        }
      }
    }
  },
  "nbformat": 4,
  "nbformat_minor": 0
}
